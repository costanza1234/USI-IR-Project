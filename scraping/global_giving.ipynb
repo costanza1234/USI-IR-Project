{
 "cells": [
  {
   "cell_type": "markdown",
   "metadata": {
    "vscode": {
     "languageId": "plaintext"
    }
   },
   "source": [
    "## Scraping GLOBAL GIVING"
   ]
  },
  {
   "cell_type": "code",
   "execution_count": null,
   "metadata": {},
   "outputs": [],
   "source": [
    "import xml.etree.ElementTree as ET\n",
    "import json\n",
    "\n",
    "# Read the XML data from the file\n",
    "with open('organizations.xml', 'r') as file:\n",
    "    xml_data = file.read()\n",
    "\n",
    "# Parse the XML data\n",
    "root = ET.fromstring(xml_data)\n",
    "\n",
    "# Extract data from all organization elements\n",
    "global_giving_json = []\n",
    "for organization in root.findall(\"organization\"):\n",
    "    org_data = {\n",
    "        \"name\": organization.find(\"name\").text,\n",
    "        \"city\": organization.find(\"city\").text,\n",
    "        \"country\": organization.find(\"country\").text,\n",
    "        \"activeProjects\": organization.find(\"activeProjects\").text,\n",
    "        \"totalProjects\": organization.find(\"totalProjects\").text,\n",
    "        \"mission\": organization.find(\"mission\").text.strip() if organization.find(\"mission\") is not None and organization.find(\"mission\").text is not None else \"\",\n",
    "        \"organization_url\": organization.find(\"url\").text,\n",
    "        \"logoUrl\": organization.find(\"logoUrl\").text if organization.find(\"logoUrl\") is not None else None,\n",
    "        \"cause\": [\n",
    "            {\n",
    "                \"name\": theme.find(\"name\").text\n",
    "            }\n",
    "            for theme in organization.find(\"themes\").findall(\"theme\")\n",
    "        ],\n",
    "        \"countries_of_operation\": [\n",
    "            {\n",
    "                \"name\": country.find(\"name\").text\n",
    "            }\n",
    "            for country in organization.find(\"countries\").findall(\"country\")\n",
    "        ],\n",
    "    }\n",
    "    global_giving_json.append(org_data)\n",
    "\n",
    "# Save the extracted data to a JSON file\n",
    "with open('global_giving.json', 'w') as f:\n",
    "    f.write(json.dumps(global_giving_json, indent=2))\n",
    "    \n",
    "# Display the extracted data\n",
    "#pprint.pprint(organizations_data[:10])"
   ]
  }
 ],
 "metadata": {
  "language_info": {
   "name": "python"
  }
 },
 "nbformat": 4,
 "nbformat_minor": 2
}
