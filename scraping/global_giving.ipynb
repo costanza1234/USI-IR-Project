{
 "cells": [
  {
   "cell_type": "markdown",
   "metadata": {
    "vscode": {
     "languageId": "plaintext"
    }
   },
   "source": [
    "## Scraping GLOBAL GIVING"
   ]
  },
  {
   "cell_type": "code",
   "execution_count": null,
   "metadata": {},
   "outputs": [],
   "source": [
    "import xml.etree.ElementTree as ET\n",
    "import json\n",
    "\n",
    "# Read the XML data from the file\n",
    "with open('organizations.xml', 'r') as file:\n",
    "    xml_data = file.read()\n",
    "\n",
    "# Parse the XML data\n",
    "root = ET.fromstring(xml_data)\n",
    "\n",
    "# Extract data from all organization elements\n",
    "global_giving_json = []\n",
    "for organization in root.findall(\"organization\"):\n",
    "    org_data = {\n",
    "        \"name\": organization.find(\"name\").text,\n",
    "        \"city\": organization.find(\"city\").text,\n",
    "        \"country\": organization.find(\"country\").text,\n",
    "        \"activeProjects\": organization.find(\"activeProjects\").text,\n",
    "        \"totalProjects\": organization.find(\"totalProjects\").text,\n",
    "        \"mission\": organization.find(\"mission\").text.strip() if organization.find(\"mission\") is not None and organization.find(\"mission\").text is not None else \"\",\n",
    "        \"organization_url\": organization.find(\"url\").text,\n",
    "        \"logoUrl\": organization.find(\"logoUrl\").text if organization.find(\"logoUrl\") is not None else None,\n",
    "        \"cause\": [\n",
    "            {\n",
    "                \"name\": theme.find(\"name\").text\n",
    "            }\n",
    "            for theme in organization.find(\"themes\").findall(\"theme\")\n",
    "        ],\n",
    "        \"countries_of_operation\": [\n",
    "            {\n",
    "                \"name\": country.find(\"name\").text\n",
    "            }\n",
    "            for country in organization.find(\"countries\").findall(\"country\")\n",
    "        ],\n",
    "    }\n",
    "    global_giving_json.append(org_data)\n",
    "\n",
    "# Save the extracted data to a JSON file\n",
    "with open('global_giving.json', 'w') as f:\n",
    "    f.write(json.dumps(global_giving_json, indent=2))\n",
    "    \n",
    "# Display the extracted data\n",
    "#pprint.pprint(organizations_data[:10])"
   ]
  },
  {
   "cell_type": "code",
   "execution_count": 11,
   "metadata": {},
   "outputs": [],
   "source": [
    "import pycountry\n",
    "import pycountry_convert as pc\n",
    "import json\n",
    "\n",
    "def country_to_continent(country_name):\n",
    "    try:\n",
    "        # Get country alpha-2 code\n",
    "        country_code = pycountry.countries.lookup(country_name).alpha_2\n",
    "        # Map to continent code\n",
    "        continent_code = pc.country_alpha2_to_continent_code(country_code)\n",
    "        # Convert to continent name\n",
    "        return pc.convert_continent_code_to_continent_name(continent_code)\n",
    "    except LookupError:\n",
    "        return \"Unknown country\"\n",
    "\n",
    "# Open ./data/global_giving.json \n",
    "# Read the JSON data from the file\n",
    "with open('scraping/data/global_giving.json', 'r') as file:\n",
    "    json_data = json.load(file)\n",
    "    \n",
    "\n",
    "# For each organization, add a field 'continent' that maps to the continent of the country\n",
    "for organization in json_data:\n",
    "    organization[\"continent\"] = country_to_continent(organization[\"country\"])\n",
    "\n",
    "# Save the updated data to a JSON file\n",
    "with open('global_giving.json', 'w') as f:\n",
    "    f.write(json.dumps(json_data, indent=2))\n",
    "    \n"
   ]
  },
  {
   "cell_type": "code",
   "execution_count": 2,
   "metadata": {},
   "outputs": [],
   "source": [
    "import json\n",
    "# Open ./data/global_giving.json \n",
    "# Read the JSON data from the file\n",
    "with open('scraping/data/global_giving.json', 'r') as file:\n",
    "    json_data = json.load(file)\n",
    "    \n",
    "for organization in json_data:\n",
    "    # Rename the 'country' field to 'country_of_headquarters'\n",
    "    organization[\"country_of_headquarters\"] = organization.pop(\"country\")\n",
    "\n",
    "# Save the updated data to a JSON file\n",
    "with open('global_giving.json', 'w') as f:\n",
    "    f.write(json.dumps(json_data, indent=2))"
   ]
  },
  {
   "cell_type": "code",
   "execution_count": 3,
   "metadata": {},
   "outputs": [],
   "source": [
    "import json\n",
    "# Open ./data/global_giving.json \n",
    "# Read the JSON data from the file\n",
    "with open('global_giving.json', 'r') as file:\n",
    "    json_data = json.load(file)\n",
    "    \n",
    "for organization in json_data:\n",
    "    # Rename the 'country_of_operation' field to 'country'\n",
    "    organization[\"country\"] = organization.pop(\"countries_of_operation\")\n",
    "    \n",
    "# Save the updated data to a JSON file\n",
    "with open('global_giving.json', 'w') as f:\n",
    "    f.write(json.dumps(json_data, indent=2))"
   ]
  },
  {
   "cell_type": "code",
   "execution_count": null,
   "metadata": {},
   "outputs": [],
   "source": []
  }
 ],
 "metadata": {
  "kernelspec": {
   "display_name": "scraper-env",
   "language": "python",
   "name": "python3"
  },
  "language_info": {
   "codemirror_mode": {
    "name": "ipython",
    "version": 3
   },
   "file_extension": ".py",
   "mimetype": "text/x-python",
   "name": "python",
   "nbconvert_exporter": "python",
   "pygments_lexer": "ipython3",
   "version": "3.12.7"
  }
 },
 "nbformat": 4,
 "nbformat_minor": 2
}
