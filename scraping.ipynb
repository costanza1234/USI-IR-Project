{
 "cells": [
  {
   "cell_type": "markdown",
   "metadata": {},
   "source": [
    "## What to do\n",
    "Scrape the websites in order to extract the following information:\n",
    "- Name \n",
    "- Logo\n",
    "- Location \n",
    "- Themes (i.e. children, homeless, medicine...)\n",
    "- Description\n",
    "- URL of their website\n",
    "- Year of foundation (This information is sometimes implicit: can be computed based on Number of year of activity)\n",
    "\n",
    "## What to use\n",
    "- Requests\n",
    "- BeautifulSoup\n",
    "- Scrapy\n",
    "\n",
    "## Websites to scrape\n",
    "urls = [\n",
    "    \"https://www.charitychoice.co.uk/charities/international/europe\",\n",
    "    \"https://www.wango.org/resources.aspx?section=ngodir&sub=region&regionID=39&col=2586BA\",\n",
    "    \"https://www.ungeneva.org/en/engage/civil-society/ngo-list\",\n",
    "    \"https://www.charitymonitoringworldwide.org\",\n",
    "    \"https://www.candid.org\"\n",
    "]"
   ]
  },
  {
   "cell_type": "code",
   "execution_count": null,
   "metadata": {},
   "outputs": [],
   "source": [
    "# Imports\n",
    "import requests\n",
    "from bs4 import BeautifulSoup\n",
    "import json\n",
    "from datetime import datetime\n",
    "import re\n",
    "from typing import Dict, List, Optional"
   ]
  },
  {
   "cell_type": "code",
   "execution_count": null,
   "metadata": {},
   "outputs": [],
   "source": [
    "# URLs to inspect\n",
    "urls = [\n",
    "    \"https://www.charitychoice.co.uk/charities/international/europe\",\n",
    "    \"https://www.wango.org/resources.aspx?section=ngodir&sub=region&regionID=39&col=2586BA\",\n",
    "    \"https://www.ungeneva.org/en/engage/civil-society/ngo-list\",\n",
    "    \"https://www.charitymonitoringworldwide.org\",\n",
    "    \"https://www.candid.org\"\n",
    "]\n"
   ]
  },
  {
   "cell_type": "code",
   "execution_count": null,
   "metadata": {},
   "outputs": [],
   "source": [
    "# Charity Choice \n"
   ]
  }
 ],
 "metadata": {
  "kernelspec": {
   "display_name": "scraper-env",
   "language": "python",
   "name": "python3"
  },
  "language_info": {
   "codemirror_mode": {
    "name": "ipython",
    "version": 3
   },
   "file_extension": ".py",
   "mimetype": "text/x-python",
   "name": "python",
   "nbconvert_exporter": "python",
   "pygments_lexer": "ipython3",
   "version": "3.12.7"
  }
 },
 "nbformat": 4,
 "nbformat_minor": 2
}
